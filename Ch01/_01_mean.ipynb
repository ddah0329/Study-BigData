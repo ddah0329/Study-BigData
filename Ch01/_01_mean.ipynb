{
 "nbformat": 4,
 "nbformat_minor": 0,
 "metadata": {
  "colab": {
   "provenance": [],
   "authorship_tag": "ABX9TyOTyLGix4vvjRc6R+uIZwuG",
   "include_colab_link": true
  },
  "kernelspec": {
   "name": "python3",
   "language": "python",
   "display_name": "Python 3 (ipykernel)"
  },
  "language_info": {
   "name": "python"
  }
 },
 "cells": [
  {
   "cell_type": "markdown",
   "metadata": {
    "id": "view-in-github",
    "colab_type": "text"
   },
   "source": [
    "<a href=\"https://colab.research.google.com/github/ddah0329/Study_BigData/blob/main/_01_mean.ipynb\" target=\"_parent\"><img src=\"https://colab.research.google.com/assets/colab-badge.svg\" alt=\"Open In Colab\"/></a>"
   ]
  },
  {
   "cell_type": "code",
   "execution_count": 1,
   "metadata": {
    "colab": {
     "base_uri": "https://localhost:8080/"
    },
    "id": "LI9bQu6QvIdl",
    "outputId": "8224e358-8df7-4d21-87d6-0fc40fa71655",
    "ExecuteTime": {
     "end_time": "2024-02-14T04:02:28.020962Z",
     "start_time": "2024-02-14T04:02:27.752027Z"
    }
   },
   "outputs": [
    {
     "data": {
      "text/plain": "array([1, 2, 3, 4])"
     },
     "execution_count": 1,
     "metadata": {},
     "output_type": "execute_result"
    }
   ],
   "source": [
    "import numpy as np\n",
    "\n",
    "# 배열 선언\n",
    "A = np.array([1, 2, 3, 4])\n",
    "A"
   ]
  },
  {
   "cell_type": "code",
   "source": [],
   "metadata": {
    "id": "DCFLb5dRvTRR"
   },
   "execution_count": null,
   "outputs": []
  }
 ]
}
