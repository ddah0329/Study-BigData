{
  "nbformat": 4,
  "nbformat_minor": 0,
  "metadata": {
    "colab": {
      "provenance": [],
      "authorship_tag": "ABX9TyM1CQXY2S7EnnDVCu2kdXUZ",
      "include_colab_link": true
    },
    "kernelspec": {
      "name": "python3",
      "display_name": "Python 3"
    },
    "language_info": {
      "name": "python"
    }
  },
  "cells": [
    {
      "cell_type": "markdown",
      "metadata": {
        "id": "view-in-github",
        "colab_type": "text"
      },
      "source": [
        "<a href=\"https://colab.research.google.com/github/ddah0329/Study_BigData/blob/main/Ch01/_01_mean.ipynb\" target=\"_parent\"><img src=\"https://colab.research.google.com/assets/colab-badge.svg\" alt=\"Open In Colab\"/></a>"
      ]
    },
    {
      "cell_type": "code",
      "execution_count": 6,
      "metadata": {
        "id": "LI9bQu6QvIdl"
      },
      "outputs": [],
      "source": [
        "import numpy as np"
      ]
    },
    {
      "cell_type": "code",
      "source": [
        "# 배열 생성\n",
        "A = np.array([1, 2, 3, 4])\n",
        "A"
      ],
      "metadata": {
        "id": "DCFLb5dRvTRR",
        "colab": {
          "base_uri": "https://localhost:8080/"
        },
        "outputId": "bd30684a-28ee-41b8-ea32-6a9bdc10d0e1"
      },
      "execution_count": 34,
      "outputs": [
        {
          "output_type": "execute_result",
          "data": {
            "text/plain": [
              "array([1, 2, 3, 4])"
            ]
          },
          "metadata": {},
          "execution_count": 34
        }
      ]
    },
    {
      "cell_type": "code",
      "source": [
        "# 배열의 길이 구하기\n",
        "num = len(A)\n",
        "num"
      ],
      "metadata": {
        "colab": {
          "base_uri": "https://localhost:8080/"
        },
        "id": "7qphOBIs0Pz0",
        "outputId": "1013c702-533b-4be0-fd1e-1bc17c6618d9"
      },
      "execution_count": 29,
      "outputs": [
        {
          "output_type": "execute_result",
          "data": {
            "text/plain": [
              "4"
            ]
          },
          "metadata": {},
          "execution_count": 29
        }
      ]
    },
    {
      "cell_type": "code",
      "source": [
        "# mean(평균)\n",
        "mean = (A[0] + A[1] + A[2] + A[3])/num\n",
        "print(mean)"
      ],
      "metadata": {
        "colab": {
          "base_uri": "https://localhost:8080/"
        },
        "id": "-XV8LYSKzX7A",
        "outputId": "89b27652-bb2d-47e1-d096-abd2398e0919"
      },
      "execution_count": 26,
      "outputs": [
        {
          "output_type": "stream",
          "name": "stdout",
          "text": [
            "2.5\n"
          ]
        }
      ]
    },
    {
      "cell_type": "code",
      "source": [
        "# variance(분산)\n",
        "vari = ((A[0] - mean)**2 + (A[1] - mean)**2 + (A[2] - mean)**2 + (A[3] - mean)**2) / num\n",
        "print(vari)"
      ],
      "metadata": {
        "colab": {
          "base_uri": "https://localhost:8080/"
        },
        "id": "IGtFN3XKzgEx",
        "outputId": "fcfdda1f-e667-4cb6-8c93-eee765cf5465"
      },
      "execution_count": 28,
      "outputs": [
        {
          "output_type": "stream",
          "name": "stdout",
          "text": [
            "1.25\n"
          ]
        }
      ]
    },
    {
      "cell_type": "code",
      "source": [
        "# standard deviation(표준편차)\n",
        "std = np.sqrt(vari) #sqrt(square route)\n",
        "std"
      ],
      "metadata": {
        "colab": {
          "base_uri": "https://localhost:8080/"
        },
        "id": "MMRtWEHs0omn",
        "outputId": "fc2313f3-a54a-49a4-a228-f5502342a8dd"
      },
      "execution_count": 33,
      "outputs": [
        {
          "output_type": "execute_result",
          "data": {
            "text/plain": [
              "1.118033988749895"
            ]
          },
          "metadata": {},
          "execution_count": 33
        }
      ]
    },
    {
      "cell_type": "markdown",
      "source": [
        "### 위에 처럼 식을 써도 되긴 하지만 파이썬에 있는 키워드를 사용하면 쉽게 값을 구할 수 있음\n",
        "\n"
      ],
      "metadata": {
        "id": "AaQ0-m_S2BCe"
      }
    },
    {
      "cell_type": "code",
      "source": [
        "mean = np.mean(A)\n",
        "vari = np.var(A) #variance\n",
        "std = np.std(A)\n",
        "\n",
        "print(mean)\n",
        "print(vari)\n",
        "print(std)"
      ],
      "metadata": {
        "colab": {
          "base_uri": "https://localhost:8080/"
        },
        "id": "TvYgCyXB06AM",
        "outputId": "ea67de4c-5ff5-4c16-81f5-88a7e5a4dc0a"
      },
      "execution_count": 38,
      "outputs": [
        {
          "output_type": "stream",
          "name": "stdout",
          "text": [
            "2.5\n",
            "1.25\n",
            "1.118033988749895\n"
          ]
        }
      ]
    }
  ]
}