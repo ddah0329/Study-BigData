{
  "nbformat": 4,
  "nbformat_minor": 0,
  "metadata": {
    "colab": {
      "provenance": [],
      "authorship_tag": "ABX9TyM9SLUt3l7RYlFVonS29NDz",
      "include_colab_link": true
    },
    "kernelspec": {
      "name": "python3",
      "display_name": "Python 3"
    },
    "language_info": {
      "name": "python"
    }
  },
  "cells": [
    {
      "cell_type": "markdown",
      "metadata": {
        "id": "view-in-github",
        "colab_type": "text"
      },
      "source": [
        "<a href=\"https://colab.research.google.com/github/ddah0329/Study_BigData/blob/main/Ch01/_02_covariance.ipynb\" target=\"_parent\"><img src=\"https://colab.research.google.com/assets/colab-badge.svg\" alt=\"Open In Colab\"/></a>"
      ]
    },
    {
      "cell_type": "code",
      "execution_count": null,
      "metadata": {
        "id": "MqneE_KX4dSj"
      },
      "outputs": [],
      "source": [
        "import numpy as np"
      ]
    },
    {
      "cell_type": "markdown",
      "source": [
        "### Weight이 70, 65, 50일 경우"
      ],
      "metadata": {
        "id": "AI8CMq7X92Ow"
      }
    },
    {
      "cell_type": "code",
      "source": [
        "# H = height  W = weight\n",
        "H = np.array([180, 170, 160])\n",
        "W = np.array([70, 65, 50])"
      ],
      "metadata": {
        "id": "GKubzaBM72R7"
      },
      "execution_count": null,
      "outputs": []
    },
    {
      "cell_type": "code",
      "source": [
        "H_mean = np.mean(H)\n",
        "H"
      ],
      "metadata": {
        "colab": {
          "base_uri": "https://localhost:8080/"
        },
        "id": "DKs7RYNv8AOP",
        "outputId": "5fa7b853-c221-4e8d-9df0-a98a8ad4025a"
      },
      "execution_count": null,
      "outputs": [
        {
          "output_type": "execute_result",
          "data": {
            "text/plain": [
              "array([180, 170, 160])"
            ]
          },
          "metadata": {},
          "execution_count": 11
        }
      ]
    },
    {
      "cell_type": "code",
      "source": [
        "W_mean = np.mean(W)\n",
        "W"
      ],
      "metadata": {
        "colab": {
          "base_uri": "https://localhost:8080/"
        },
        "id": "Ww365vk68Kua",
        "outputId": "268112ab-d89c-4c1a-cf43-275aaa89ed3a"
      },
      "execution_count": null,
      "outputs": [
        {
          "output_type": "execute_result",
          "data": {
            "text/plain": [
              "array([70, 65, 50])"
            ]
          },
          "metadata": {},
          "execution_count": 15
        }
      ]
    },
    {
      "cell_type": "code",
      "source": [
        "# 공분산(coveriance)\n",
        "Cov = (((H[0] - H_mean) * (W[0] - W_mean))+((H[1] - H_mean) * (W[1] - W_mean))+((H[2] - H_mean) * (W[2] - W_mean)))/3\n",
        "Cov"
      ],
      "metadata": {
        "colab": {
          "base_uri": "https://localhost:8080/"
        },
        "id": "arwiQX9C8S6N",
        "outputId": "05f12f44-b118-4c1a-ca62-85215dccaed5"
      },
      "execution_count": null,
      "outputs": [
        {
          "output_type": "execute_result",
          "data": {
            "text/plain": [
              "66.66666666666667"
            ]
          },
          "metadata": {},
          "execution_count": 16
        }
      ]
    },
    {
      "cell_type": "code",
      "source": [
        "H_std = np.std(H)\n",
        "W_std = np.std(W)"
      ],
      "metadata": {
        "id": "IoX67Su99CzN"
      },
      "execution_count": null,
      "outputs": []
    },
    {
      "cell_type": "code",
      "source": [
        "# 방법 1\n",
        "Rel = Cov/H_std/W_std\n",
        "Rel"
      ],
      "metadata": {
        "colab": {
          "base_uri": "https://localhost:8080/"
        },
        "id": "D3mQWkRV9YPi",
        "outputId": "7128fa86-baa0-4195-dc42-c3cb12fd0c7a"
      },
      "execution_count": null,
      "outputs": [
        {
          "output_type": "execute_result",
          "data": {
            "text/plain": [
              "0.9607689228305227"
            ]
          },
          "metadata": {},
          "execution_count": 23
        }
      ]
    },
    {
      "cell_type": "code",
      "source": [
        "# 방법 2\n",
        "Cov / (H_std * W_std)"
      ],
      "metadata": {
        "colab": {
          "base_uri": "https://localhost:8080/"
        },
        "id": "t7YTx6l79cCq",
        "outputId": "48172549-dda2-4753-c2bc-25bb57d3a29f"
      },
      "execution_count": null,
      "outputs": [
        {
          "output_type": "execute_result",
          "data": {
            "text/plain": [
              "0.9607689228305227"
            ]
          },
          "metadata": {},
          "execution_count": 24
        }
      ]
    },
    {
      "cell_type": "markdown",
      "source": [
        "### Weight이 50, 60, 70일 경우\n",
        "순서가 내림차순일때와 오른차순일때의 값이 다르다."
      ],
      "metadata": {
        "id": "ovmNwQc0-ANb"
      }
    },
    {
      "cell_type": "code",
      "source": [
        "# H = height  W = weight\n",
        "Hh = np.array([180, 170, 160])\n",
        "Ww = np.array([50, 60, 70])"
      ],
      "metadata": {
        "id": "uYjLgntE9jWW"
      },
      "execution_count": null,
      "outputs": []
    },
    {
      "cell_type": "code",
      "source": [
        "Hh_mean = np.mean(Hh)\n",
        "Hh"
      ],
      "metadata": {
        "colab": {
          "base_uri": "https://localhost:8080/"
        },
        "id": "p8wSAzrU-JSi",
        "outputId": "aa9d1ede-8026-4843-e129-0e913e0f0ea8"
      },
      "execution_count": null,
      "outputs": [
        {
          "output_type": "execute_result",
          "data": {
            "text/plain": [
              "array([180, 170, 160])"
            ]
          },
          "metadata": {},
          "execution_count": 29
        }
      ]
    },
    {
      "cell_type": "code",
      "source": [
        "Ww_mean = np.mean(Ww)\n",
        "Ww"
      ],
      "metadata": {
        "colab": {
          "base_uri": "https://localhost:8080/"
        },
        "id": "jIffIcEY-MK5",
        "outputId": "d9227f16-4a01-4285-c7ae-e1309fb0b8c4"
      },
      "execution_count": null,
      "outputs": [
        {
          "output_type": "execute_result",
          "data": {
            "text/plain": [
              "array([50, 60, 70])"
            ]
          },
          "metadata": {},
          "execution_count": 30
        }
      ]
    },
    {
      "cell_type": "code",
      "source": [
        "# 공분산(coveriance)\n",
        "CovRe = (((Hh[0] - Hh_mean) * (Ww[0] - Ww_mean))+((Hh[1] - Hh_mean) * (Ww[1] - Ww_mean))+((Hh[2] - Hh_mean) * (Ww[2] - Ww_mean)))/3\n",
        "CovRe"
      ],
      "metadata": {
        "colab": {
          "base_uri": "https://localhost:8080/"
        },
        "id": "qjzDENEK-OlX",
        "outputId": "2387ebe6-4c64-46ae-f45e-15dc41a15fbb"
      },
      "execution_count": null,
      "outputs": [
        {
          "output_type": "execute_result",
          "data": {
            "text/plain": [
              "-66.66666666666667"
            ]
          },
          "metadata": {},
          "execution_count": 31
        }
      ]
    },
    {
      "cell_type": "code",
      "source": [
        "Hh_std = np.std(Hh)\n",
        "Ww_std = np.std(Ww)"
      ],
      "metadata": {
        "id": "4RCYw-sK-kTb"
      },
      "execution_count": null,
      "outputs": []
    },
    {
      "cell_type": "code",
      "source": [
        "RelRe = CovRe/Hh_std/Ww_std\n",
        "RelRe"
      ],
      "metadata": {
        "colab": {
          "base_uri": "https://localhost:8080/"
        },
        "id": "EXTK3jmH-cln",
        "outputId": "c0a50c47-f7d2-4cc4-8f29-50d053e1f358"
      },
      "execution_count": null,
      "outputs": [
        {
          "output_type": "execute_result",
          "data": {
            "text/plain": [
              "-1.0"
            ]
          },
          "metadata": {},
          "execution_count": 35
        }
      ]
    }
  ]
}